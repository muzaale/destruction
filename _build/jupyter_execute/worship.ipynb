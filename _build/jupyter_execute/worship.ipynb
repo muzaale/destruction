{
 "cells": [
  {
   "cell_type": "markdown",
   "id": "c49d8034",
   "metadata": {},
   "source": [
    "# worship\n",
    "\n",
    "Reverence isn't the same as ancestral worship. Ludwig inspired worship rather than the spirit of reverence of forebears in the totality of their lineage. Thus the 19th century witnesses geniuses, showmen, and the like -- who had no ancestors: Wagner, Liszt, etc.\n",
    "\n",
    "Chopin must never be included in this list. His tributes to Polish folklore say it all.\n",
    "\n",
    "The worshiper never considers usurpation. And that is why Beethoven's place in the pantheon is secure. He inspired worship. But the type-I artist who reveres without worshiping will, ultimately, usurp his forebears. And once senses a dwindling regard of the forebear as this artists reputation grows.\n",
    "\n",
    "Just think: Corelli-Handel, Vivaldi-Bach, and Haydn-Mozart. Posterity is the benefactor of these lineages."
   ]
  },
  {
   "cell_type": "code",
   "execution_count": 1,
   "id": "bc3d915b",
   "metadata": {},
   "outputs": [
    {
     "name": "stdout",
     "output_type": "stream",
     "text": [
      "4\n"
     ]
    }
   ],
   "source": [
    "print(2 + 2)"
   ]
  },
  {
   "cell_type": "markdown",
   "id": "aa3d3499",
   "metadata": {},
   "source": [
    "```{seealso}\n",
    "Jupyter Book uses [Jupytext](https://jupytext.readthedocs.io/en/latest/) to convert text-based files to notebooks, and can support [many other text-based notebook files](https://jupyterbook.org/file-types/jupytext.html).\n",
    "```"
   ]
  }
 ],
 "metadata": {
  "jupytext": {
   "formats": "md:myst",
   "text_representation": {
    "extension": ".md",
    "format_name": "myst",
    "format_version": 0.13,
    "jupytext_version": "1.11.5"
   }
  },
  "kernelspec": {
   "display_name": "Python 3",
   "language": "python",
   "name": "python3"
  },
  "language_info": {
   "codemirror_mode": {
    "name": "ipython",
    "version": 3
   },
   "file_extension": ".py",
   "mimetype": "text/x-python",
   "name": "python",
   "nbconvert_exporter": "python",
   "pygments_lexer": "ipython3",
   "version": "3.10.9"
  },
  "source_map": [
   13,
   25,
   27
  ]
 },
 "nbformat": 4,
 "nbformat_minor": 5
}